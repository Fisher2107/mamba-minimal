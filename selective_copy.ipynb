{
 "cells": [
  {
   "cell_type": "code",
   "execution_count": null,
   "metadata": {},
   "outputs": [],
   "source": [
    "import random\n",
    "import numpy as np\n",
    "from model import *\n",
    "import torch\n",
    "from torch import nn\n",
    "from torch.optim import Adam\n",
    "from tqdm import tqdm\n",
    "import matplotlib.pyplot as plt\n",
    "\n",
    "index_to_color = {0:'white',1: 'red', 2: 'green', 3: 'blue', 4: 'yellow', 5: 'purple',6:'black'}\n",
    "\n",
    "def generate_data(batch_size=100):\n",
    "    rand_index_list = np.array([sorted(np.random.choice(range(1, 20), 5, replace=False)) for _ in range(batch_size)])\n",
    "    colors = np.random.choice(range(1,6), (batch_size,5))\n",
    "    target = np.zeros((batch_size,25))\n",
    "    target[:, 20:] = colors\n",
    "    data = np.zeros((batch_size,25))\n",
    "    data[np.arange(batch_size)[:, None], rand_index_list] = colors\n",
    "    data[:, 20:] = 6\n",
    "    return [data, target]\n",
    "\n",
    "data = generate_data(batch_size=100)\n",
    "print(data[0][0],data[1][0])"
   ]
  },
  {
   "cell_type": "code",
   "execution_count": null,
   "metadata": {},
   "outputs": [],
   "source": [
    "# Define model parameters\n",
    "args = ModelArgs(\n",
    "    d_model=16,#when set to 64, the model does not learn\n",
    "    n_layer=2, \n",
    "    vocab_size=7,\n",
    ")\n",
    "\n",
    "# Initialize the Mamba model\n",
    "model = Mamba(args)\n",
    "device = torch.device('cuda' if torch.cuda.is_available() else 'cpu')\n",
    "model = model.to(device)\n",
    "\n",
    "# Define a loss function\n",
    "loss_fn = nn.CrossEntropyLoss()\n",
    "\n",
    "# Define an optimizer\n",
    "optimizer = Adam(model.parameters(), lr=1e-4)\n",
    "\n",
    "# List to store loss values\n",
    "loss_values = []\n",
    "\n",
    "# For each epoch\n",
    "for epoch in tqdm(range(10000)):\n",
    "    # Generate data\n",
    "    inputs, targets = generate_data(batch_size=64)\n",
    "    inputs = torch.from_numpy(inputs).long().to(device)\n",
    "    targets = torch.from_numpy(targets).long().to(device)\n",
    "    outputs = model(inputs)\n",
    "    outputs = nn.Softmax(dim=2)(outputs)\n",
    "    loss = loss_fn(outputs.reshape(-1,8), targets.reshape(-1))\n",
    "    loss_values.append(loss.item())  # Store loss value\n",
    "    if epoch % 1000 == 0:\n",
    "        print(f'Epoch {epoch}: loss={loss.item()}')\n",
    "\n",
    "    # Backward pass: compute the gradients of the loss with respect to the model's parameters\n",
    "    loss.backward()\n",
    "\n",
    "    # Update the model's parameters\n",
    "    optimizer.step()\n",
    "\n",
    "    # Zero the gradients\n",
    "    optimizer.zero_grad()\n",
    "\n",
    "# Plot loss values\n",
    "plt.plot(loss_values)\n",
    "plt.xlabel('Epoch')\n",
    "plt.ylabel('Loss')\n",
    "plt.show()"
   ]
  },
  {
   "cell_type": "code",
   "execution_count": null,
   "metadata": {},
   "outputs": [],
   "source": [
    "inputs, targets = generate_data(batch_size=1)\n",
    "inputs = torch.from_numpy(inputs).long()\n",
    "targets = torch.from_numpy(targets).long()\n",
    "outputs = model(inputs)\n",
    "outputs = nn.Softmax(dim=2)(outputs)\n",
    "print(inputs[0])\n",
    "print(outputs[0].argmax(dim=1))\n",
    "print(targets[0])"
   ]
  }
 ],
 "metadata": {
  "kernelspec": {
   "display_name": "pytorch",
   "language": "python",
   "name": "python3"
  },
  "language_info": {
   "codemirror_mode": {
    "name": "ipython",
    "version": 3
   },
   "file_extension": ".py",
   "mimetype": "text/x-python",
   "name": "python",
   "nbconvert_exporter": "python",
   "pygments_lexer": "ipython3",
   "version": "3.11.5"
  }
 },
 "nbformat": 4,
 "nbformat_minor": 2
}
