{
 "cells": [
  {
   "cell_type": "code",
   "execution_count": 33,
   "metadata": {},
   "outputs": [
    {
     "name": "stdout",
     "output_type": "stream",
     "text": [
      "[0. 0. 0. 0. 5. 0. 5. 0. 3. 0. 0. 0. 4. 0. 0. 0. 5. 0. 0. 0. 6. 6. 6. 6.\n",
      " 6.] [0. 0. 0. 0. 0. 0. 0. 0. 0. 0. 0. 0. 0. 0. 0. 0. 0. 0. 0. 0. 5. 5. 3. 4.\n",
      " 5.]\n"
     ]
    }
   ],
   "source": [
    "import random\n",
    "import numpy as np\n",
    "from model import *\n",
    "import torch\n",
    "from torch import nn\n",
    "from torch.optim import Adam\n",
    "\n",
    "index_to_color = {0:'white',1: 'red', 2: 'green', 3: 'blue', 4: 'yellow', 5: 'purple',6:'black'}\n",
    "\n",
    "def generate_data(batch_size=100):\n",
    "    rand_index_list = np.array([sorted(np.random.choice(range(1, 20), 5, replace=False)) for _ in range(batch_size)])\n",
    "    colors = np.random.choice(range(1,6), (batch_size,5))\n",
    "    target = np.zeros((batch_size,25))\n",
    "    target[:, 20:] = colors\n",
    "    data = np.zeros((batch_size,25))\n",
    "    data[np.arange(batch_size)[:, None], rand_index_list] = colors\n",
    "    data[:, 20:] = 6\n",
    "    return [data, target]\n",
    "\n",
    "data = generate_data(batch_size=100)\n",
    "print(data[0][0],data[1][0])"
   ]
  },
  {
   "cell_type": "code",
   "execution_count": 41,
   "metadata": {},
   "outputs": [
    {
     "name": "stdout",
     "output_type": "stream",
     "text": [
      "Epoch 0: loss=866.26953125\n",
      "Epoch 100: loss=808.976318359375\n",
      "Epoch 200: loss=779.822265625\n",
      "Epoch 300: loss=750.4093627929688\n",
      "Epoch 400: loss=749.6165161132812\n",
      "Epoch 500: loss=757.1575317382812\n",
      "Epoch 600: loss=745.1011962890625\n",
      "Epoch 700: loss=746.2762451171875\n",
      "Epoch 800: loss=752.2911376953125\n",
      "Epoch 900: loss=744.0885009765625\n",
      "Epoch 1000: loss=750.1497802734375\n",
      "Epoch 1100: loss=753.6925048828125\n",
      "Epoch 1200: loss=747.4166259765625\n",
      "Epoch 1300: loss=748.4771728515625\n",
      "Epoch 1400: loss=749.7415161132812\n",
      "Epoch 1500: loss=750.9656372070312\n",
      "Epoch 1600: loss=747.675048828125\n",
      "Epoch 1700: loss=747.0822143554688\n",
      "Epoch 1800: loss=742.825439453125\n",
      "Epoch 1900: loss=738.3043212890625\n",
      "Epoch 2000: loss=734.7710571289062\n",
      "Epoch 2100: loss=707.7189331054688\n",
      "Epoch 2200: loss=706.251953125\n",
      "Epoch 2300: loss=710.7028198242188\n",
      "Epoch 2400: loss=710.2073364257812\n",
      "Epoch 2500: loss=703.957275390625\n",
      "Epoch 2600: loss=704.3675537109375\n",
      "Epoch 2700: loss=704.9950561523438\n",
      "Epoch 2800: loss=697.6864624023438\n",
      "Epoch 2900: loss=703.7972412109375\n"
     ]
    }
   ],
   "source": [
    "# Define model parameters\n",
    "args = ModelArgs(\n",
    "    d_model=3,\n",
    "    n_layer=6, \n",
    "    vocab_size=7,\n",
    "    expand=4, \n",
    "    d_state=1,\n",
    ")\n",
    "\n",
    "# Initialize the Mamba model\n",
    "model = Mamba(args)\n",
    "\n",
    "# Define a loss function\n",
    "loss_fn = nn.CrossEntropyLoss(reduction='sum')\n",
    "\n",
    "# Define an optimizer\n",
    "optimizer = Adam(model.parameters(), lr=1e-3)\n",
    "\n",
    "# For each epoch\n",
    "for epoch in range(3000):\n",
    "    # Generate data\n",
    "    inputs, targets = generate_data(batch_size=20)\n",
    "    inputs = torch.from_numpy(inputs).long()\n",
    "    targets = torch.from_numpy(targets).long()\n",
    "    outputs = model(inputs)\n",
    "    outputs = nn.Softmax(dim=2)(outputs)\n",
    "    loss = loss_fn(outputs.reshape(-1,8), targets.reshape(-1))\n",
    "    if epoch % 100 == 0:\n",
    "        print(f'Epoch {epoch}: loss={loss.item()}')\n",
    "\n",
    "    # Backward pass: compute the gradients of the loss with respect to the model's parameters\n",
    "    loss.backward()\n",
    "\n",
    "    # Update the model's parameters\n",
    "    optimizer.step()\n",
    "\n",
    "    # Zero the gradients\n",
    "    optimizer.zero_grad()"
   ]
  },
  {
   "cell_type": "code",
   "execution_count": 45,
   "metadata": {},
   "outputs": [
    {
     "name": "stdout",
     "output_type": "stream",
     "text": [
      "tensor([0, 4, 0, 0, 0, 0, 0, 3, 0, 0, 0, 0, 0, 0, 4, 4, 0, 1, 0, 0, 6, 6, 6, 6,\n",
      "        6])\n",
      "tensor([0, 0, 0, 0, 0, 0, 0, 0, 0, 0, 0, 0, 0, 0, 0, 0, 0, 0, 0, 0, 1, 1, 1, 1,\n",
      "        1])\n",
      "tensor([0, 0, 0, 0, 0, 0, 0, 0, 0, 0, 0, 0, 0, 0, 0, 0, 0, 0, 0, 0, 4, 3, 4, 4,\n",
      "        1])\n"
     ]
    }
   ],
   "source": [
    "inputs, targets = generate_data(batch_size=1)\n",
    "inputs = torch.from_numpy(inputs).long()\n",
    "targets = torch.from_numpy(targets).long()\n",
    "outputs = model(inputs)\n",
    "outputs = nn.Softmax(dim=2)(outputs)\n",
    "print(inputs[0])\n",
    "print(outputs[0].argmax(dim=1))\n",
    "print(targets[0])"
   ]
  }
 ],
 "metadata": {
  "kernelspec": {
   "display_name": "pytorch",
   "language": "python",
   "name": "python3"
  },
  "language_info": {
   "codemirror_mode": {
    "name": "ipython",
    "version": 3
   },
   "file_extension": ".py",
   "mimetype": "text/x-python",
   "name": "python",
   "nbconvert_exporter": "python",
   "pygments_lexer": "ipython3",
   "version": "3.11.5"
  }
 },
 "nbformat": 4,
 "nbformat_minor": 2
}
