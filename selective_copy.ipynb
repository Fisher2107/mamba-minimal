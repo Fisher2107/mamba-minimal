{
 "cells": [
  {
   "cell_type": "code",
   "execution_count": 2,
   "metadata": {},
   "outputs": [
    {
     "name": "stdout",
     "output_type": "stream",
     "text": [
      "[0. 2. 0. 0. 0. 0. 4. 0. 0. 0. 0. 0. 4. 0. 2. 1. 0. 0. 0. 0. 6. 6. 6. 6.\n",
      " 6.] [0. 0. 0. 0. 0. 0. 0. 0. 0. 0. 0. 0. 0. 0. 0. 0. 0. 0. 0. 0. 2. 4. 4. 2.\n",
      " 1.]\n"
     ]
    }
   ],
   "source": [
    "import random\n",
    "import numpy as np\n",
    "from model import *\n",
    "import torch\n",
    "from torch import nn\n",
    "from torch.optim import Adam\n",
    "\n",
    "index_to_color = {0:'white',1: 'red', 2: 'green', 3: 'blue', 4: 'yellow', 5: 'purple',6:'black'}\n",
    "\n",
    "def generate_data(batch_size=100):\n",
    "    rand_index_list = np.array([sorted(np.random.choice(range(1, 20), 5, replace=False)) for _ in range(batch_size)])\n",
    "    colors = np.random.choice(range(1,6), (batch_size,5))\n",
    "    target = np.zeros((batch_size,25))\n",
    "    target[:, 20:] = colors\n",
    "    data = np.zeros((batch_size,25))\n",
    "    data[np.arange(batch_size)[:, None], rand_index_list] = colors\n",
    "    data[:, 20:] = 6\n",
    "    return [data, target]\n",
    "\n",
    "data = generate_data(batch_size=100)\n",
    "print(data[0][0],data[1][0])"
   ]
  },
  {
   "cell_type": "code",
   "execution_count": 8,
   "metadata": {},
   "outputs": [
    {
     "name": "stdout",
     "output_type": "stream",
     "text": [
      "Epoch 0: loss=2676.363037109375\n",
      "Epoch 100: loss=2673.0322265625\n",
      "Epoch 200: loss=2613.73291015625\n",
      "Epoch 300: loss=2612.4677734375\n",
      "Epoch 400: loss=2511.308349609375\n",
      "Epoch 500: loss=2475.52392578125\n",
      "Epoch 600: loss=2428.9716796875\n",
      "Epoch 700: loss=2408.201171875\n",
      "Epoch 800: loss=2418.505859375\n",
      "Epoch 900: loss=2403.130859375\n",
      "Epoch 1000: loss=2419.111328125\n",
      "Epoch 1100: loss=2405.806884765625\n",
      "Epoch 1200: loss=2408.31494140625\n",
      "Epoch 1300: loss=2427.336181640625\n",
      "Epoch 1400: loss=2417.472412109375\n",
      "Epoch 1500: loss=2414.2177734375\n",
      "Epoch 1600: loss=2421.294921875\n",
      "Epoch 1700: loss=2413.44091796875\n",
      "Epoch 1800: loss=2417.180908203125\n",
      "Epoch 1900: loss=2403.21142578125\n",
      "Epoch 2000: loss=2335.81201171875\n",
      "Epoch 2100: loss=2337.158447265625\n",
      "Epoch 2200: loss=2340.873291015625\n",
      "Epoch 2300: loss=2347.194580078125\n",
      "Epoch 2400: loss=2351.195556640625\n",
      "Epoch 2500: loss=2357.284423828125\n",
      "Epoch 2600: loss=2347.50439453125\n",
      "Epoch 2700: loss=2333.29296875\n",
      "Epoch 2800: loss=2331.7978515625\n",
      "Epoch 2900: loss=2343.54736328125\n"
     ]
    }
   ],
   "source": [
    "# Define model parameters\n",
    "args = ModelArgs(\n",
    "    d_model=16,\n",
    "    n_layer=2, \n",
    "    vocab_size=7,\n",
    "    d_state=8, \n",
    ")\n",
    "\n",
    "# Initialize the Mamba model\n",
    "model = Mamba(args)\n",
    "\n",
    "# Define a loss function\n",
    "loss_fn = nn.CrossEntropyLoss(reduction='sum')\n",
    "\n",
    "# Define an optimizer\n",
    "optimizer = Adam(model.parameters(), lr=1e-4)\n",
    "\n",
    "# For each epoch\n",
    "for epoch in range(3000):\n",
    "    # Generate data\n",
    "    inputs, targets = generate_data(batch_size=64)\n",
    "    inputs = torch.from_numpy(inputs).long()\n",
    "    targets = torch.from_numpy(targets).long()\n",
    "    outputs = model(inputs)\n",
    "    outputs = nn.Softmax(dim=2)(outputs)\n",
    "    loss = loss_fn(outputs.reshape(-1,8), targets.reshape(-1))\n",
    "    if epoch % 100 == 0:\n",
    "        print(f'Epoch {epoch}: loss={loss.item()}')\n",
    "\n",
    "    # Backward pass: compute the gradients of the loss with respect to the model's parameters\n",
    "    loss.backward()\n",
    "\n",
    "    # Update the model's parameters\n",
    "    optimizer.step()\n",
    "\n",
    "    # Zero the gradients\n",
    "    optimizer.zero_grad()"
   ]
  },
  {
   "cell_type": "code",
   "execution_count": 9,
   "metadata": {},
   "outputs": [
    {
     "name": "stdout",
     "output_type": "stream",
     "text": [
      "tensor([0, 0, 1, 0, 0, 0, 0, 2, 0, 0, 0, 0, 0, 0, 1, 4, 0, 0, 0, 1, 6, 6, 6, 6,\n",
      "        6])\n",
      "tensor([0, 0, 0, 0, 0, 0, 0, 0, 0, 0, 0, 0, 0, 0, 0, 0, 0, 0, 0, 0, 2, 2, 5, 5,\n",
      "        5])\n",
      "tensor([0, 0, 0, 0, 0, 0, 0, 0, 0, 0, 0, 0, 0, 0, 0, 0, 0, 0, 0, 0, 1, 2, 1, 4,\n",
      "        1])\n"
     ]
    }
   ],
   "source": [
    "inputs, targets = generate_data(batch_size=1)\n",
    "inputs = torch.from_numpy(inputs).long()\n",
    "targets = torch.from_numpy(targets).long()\n",
    "outputs = model(inputs)\n",
    "outputs = nn.Softmax(dim=2)(outputs)\n",
    "print(inputs[0])\n",
    "print(outputs[0].argmax(dim=1))\n",
    "print(targets[0])"
   ]
  }
 ],
 "metadata": {
  "kernelspec": {
   "display_name": "pytorch",
   "language": "python",
   "name": "python3"
  },
  "language_info": {
   "codemirror_mode": {
    "name": "ipython",
    "version": 3
   },
   "file_extension": ".py",
   "mimetype": "text/x-python",
   "name": "python",
   "nbconvert_exporter": "python",
   "pygments_lexer": "ipython3",
   "version": "3.11.5"
  }
 },
 "nbformat": 4,
 "nbformat_minor": 2
}
